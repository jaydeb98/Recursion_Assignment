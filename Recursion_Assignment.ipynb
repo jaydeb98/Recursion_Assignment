{
 "cells": [
  {
   "cell_type": "code",
   "execution_count": null,
   "id": "1d583420",
   "metadata": {},
   "outputs": [],
   "source": [
    "#1.\n",
    "\n",
    "public class TowerOfHanoi {\n",
    "\n",
    "    public static void main(String[] args) {\n",
    "        int numberOfDisks = 3;\n",
    "        char sourceRod = 'A';\n",
    "        char auxiliaryRod = 'B';\n",
    "        char destinationRod = 'C';\n",
    "\n",
    "        System.out.println(\"Tower of Hanoi solution:\");\n",
    "        solveTowerOfHanoi(numberOfDisks, sourceRod, auxiliaryRod, destinationRod);\n",
    "    }\n",
    "\n",
    "    public static void solveTowerOfHanoi(int n, char source, char auxiliary, char destination) {\n",
    "        if (n == 1) {\n",
    "            // Base case: Move the top disk from source to destination\n",
    "            System.out.println(\"Move disk 1 from rod \" + source + \" to rod \" + destination);\n",
    "            return;\n",
    "        }\n",
    "\n",
    "        // Move n-1 disks from source to auxiliary rod using destination rod\n",
    "        solveTowerOfHanoi(n - 1, source, destination, auxiliary);\n",
    "\n",
    "        // Move the nth disk from source to destination\n",
    "        System.out.println(\"Move disk \" + n + \" from rod \" + source + \" to rod \" + destination);\n",
    "\n",
    "        // Move the n-1 disks from auxiliary rod to destination rod using source rod\n",
    "        solveTowerOfHanoi(n - 1, auxiliary, source, destination);\n",
    "    }\n",
    "}"
   ]
  },
  {
   "cell_type": "code",
   "execution_count": 1,
   "id": "416dfab4",
   "metadata": {},
   "outputs": [
    {
     "name": "stdout",
     "output_type": "stream",
     "text": [
      "Output 1: 3\n",
      "Output 2: 5\n"
     ]
    }
   ],
   "source": [
    "#2.\n",
    "\n",
    "#Method Definition\n",
    "def minDistanceRecursive(word1, word2, m, n):\n",
    "    # Base case: If one of the strings is empty, return the length of the other string\n",
    "    if m == 0:\n",
    "        return n\n",
    "    if n == 0:\n",
    "        return m\n",
    "\n",
    "    # If the last characters are the same, ignore and recur for the rest of the strings\n",
    "    if word1[m - 1] == word2[n - 1]:\n",
    "        return minDistanceRecursive(word1, word2, m - 1, n - 1)\n",
    "\n",
    "    # If the last characters are different, consider all operations (insert, remove, replace)\n",
    "    return 1 + min(\n",
    "        minDistanceRecursive(word1, word2, m, n - 1),     # Insert\n",
    "        minDistanceRecursive(word1, word2, m - 1, n),     # Remove\n",
    "        minDistanceRecursive(word1, word2, m - 1, n - 1)  # Replace\n",
    "    )\n",
    "\n",
    "def minDistance(word1, word2):\n",
    "    return minDistanceRecursive(word1, word2, len(word1), len(word2))\n",
    "\n",
    "# Driver Code:\n",
    "word1_1, word2_1 = \"horse\", \"ros\"\n",
    "word1_2, word2_2 = \"intention\", \"execution\"\n",
    "\n",
    "output_1 = minDistance(word1_1, word2_1)\n",
    "output_2 = minDistance(word1_2, word2_2)\n",
    "\n",
    "print(\"Output 1:\", output_1)  \n",
    "print(\"Output 2:\", output_2)"
   ]
  },
  {
   "cell_type": "code",
   "execution_count": 8,
   "id": "cb9886b8",
   "metadata": {},
   "outputs": [
    {
     "name": "stdout",
     "output_type": "stream",
     "text": [
      "22\n"
     ]
    }
   ],
   "source": [
    "#3.\n",
    "\n",
    "# Method Definition\n",
    "def find_max(arr):\n",
    "\n",
    "    # Base Condition: If the array has only one element, return that element\n",
    "    if len(arr) == 1:\n",
    "        return arr[0]\n",
    "    \n",
    "    # Recursive Function Call\n",
    "    else:\n",
    "        # Find the maximum element in the rest of the array\n",
    "        max_element = find_max(arr[1:])\n",
    "        \n",
    "        # Compare the current element with the maximum of the rest and return the larger one\n",
    "        if arr[0] > max_element:\n",
    "            return arr[0]\n",
    "        else:\n",
    "            return max_element\n",
    "        \n",
    "# Driver Code:\n",
    "arr = [13, 1, -3, 22, 5]\n",
    "result = find_max(arr)\n",
    "print(result)"
   ]
  },
  {
   "cell_type": "code",
   "execution_count": 1,
   "id": "b9de7f52",
   "metadata": {},
   "outputs": [
    {
     "name": "stdout",
     "output_type": "stream",
     "text": [
      "120\n"
     ]
    }
   ],
   "source": [
    "#4.\n",
    "\n",
    "# Method Definition\n",
    "def sum_arr(arr):\n",
    "\n",
    "    # Base Condition: If the array has only one element, return that element\n",
    "    if len(arr) == 1:\n",
    "        return arr[0]\n",
    "    \n",
    "    # Recursive Function: Add the current element to the sum of the rest of the array\n",
    "    else:\n",
    "        result = arr[0] + sum_arr(arr[1:])\n",
    "        return result\n",
    "    \n",
    "# Driver Code\n",
    "arr = [92, 23, 15, -20, 10]\n",
    "result = sum_arr(arr)\n",
    "print(result)\n"
   ]
  },
  {
   "cell_type": "code",
   "execution_count": 4,
   "id": "9c74a00d",
   "metadata": {},
   "outputs": [
    {
     "name": "stdout",
     "output_type": "stream",
     "text": [
      "Yes\n"
     ]
    }
   ],
   "source": [
    "#5.\n",
    "\n",
    "#Method Definition\n",
    "def is_armstrong(number, original=None):\n",
    "    if original is None:\n",
    "        original = number\n",
    "    \n",
    "    # Base case\n",
    "    if number == 0:\n",
    "        return 0\n",
    "    \n",
    "    # Recursive Function Call\n",
    "    digit = number % 10\n",
    "    return digit**len(str(original)) + is_armstrong(number // 10, original)\n",
    "\n",
    "# Driver Code:\n",
    "number = 153\n",
    "if number == is_armstrong(number):\n",
    "    print(\"Yes\")\n",
    "else:\n",
    "    print(\"No\")"
   ]
  }
 ],
 "metadata": {
  "kernelspec": {
   "display_name": "Python 3 (ipykernel)",
   "language": "python",
   "name": "python3"
  },
  "language_info": {
   "codemirror_mode": {
    "name": "ipython",
    "version": 3
   },
   "file_extension": ".py",
   "mimetype": "text/x-python",
   "name": "python",
   "nbconvert_exporter": "python",
   "pygments_lexer": "ipython3",
   "version": "3.10.9"
  }
 },
 "nbformat": 4,
 "nbformat_minor": 5
}
